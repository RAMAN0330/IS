{
 "cells": [
  {
   "cell_type": "code",
   "execution_count": 3,
   "id": "6d8057a2",
   "metadata": {},
   "outputs": [
    {
     "name": "stdout",
     "output_type": "stream",
     "text": [
      "Enter a Text that you want to encrypt :- hello\n",
      "Enter Shift pattern  :- 1\n",
      "Cipher Text is : ifmmp\n"
     ]
    }
   ],
   "source": [
    "# CSC/20/50 Bharat Sharma Univ_Roll_NO:-20059570040   ======  Implement caeser cipher substitution operation\n",
    "def encryptnow(plaintext,n):\n",
    "    result = \"\"\n",
    "    \n",
    "    for i in range(len(plaintext)):\n",
    "        ch = plaintext[i]\n",
    "        if ch==\" \":\n",
    "            result+=\" \"\n",
    "        elif (ch.isupper()):\n",
    "            result += chr((ord(ch) + n-65) % 26 + 65)        \n",
    "        else:\n",
    "            result += chr((ord(ch) + n-97) % 26 + 97)\n",
    "    \n",
    "    return result\n",
    "\n",
    "plaintext = input(\"Enter a Text that you want to encrypt :- \")\n",
    "n=int(input(\"Enter Shift pattern  :- \"))\n",
    "print(\"Cipher Text is : \" + encryptnow(plaintext,n))\n",
    "\n"
   ]
  },
  {
   "cell_type": "code",
   "execution_count": null,
   "id": "1d32661c",
   "metadata": {},
   "outputs": [],
   "source": []
  }
 ],
 "metadata": {
  "kernelspec": {
   "display_name": "Python 3 (ipykernel)",
   "language": "python",
   "name": "python3"
  },
  "language_info": {
   "codemirror_mode": {
    "name": "ipython",
    "version": 3
   },
   "file_extension": ".py",
   "mimetype": "text/x-python",
   "name": "python",
   "nbconvert_exporter": "python",
   "pygments_lexer": "ipython3",
   "version": "3.9.13"
  }
 },
 "nbformat": 4,
 "nbformat_minor": 5
}
