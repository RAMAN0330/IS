{
 "cells": [
  {
   "cell_type": "code",
   "execution_count": 6,
   "id": "9a4ad9e6",
   "metadata": {},
   "outputs": [
    {
     "name": "stdout",
     "output_type": "stream",
     "text": [
      "Enter Plain Text for Rail Fence Transposition Operation goodmorning\n",
      "Enter Depth :- 2\n",
      "Cypher text is :-  gomrigodonn\n"
     ]
    }
   ],
   "source": [
    "# CSC/20/50 Bharat Sharma UNIV_ROLL_NO:- 20059570040\n",
    "def convert(pt,d):\n",
    "    text=\"\"\n",
    "    for i in range(d):\n",
    "        j=0\n",
    "        while (j*d)+i<len(pt):\n",
    "            text+=pt[(j*d)+i]\n",
    "            j+=1\n",
    "    return text\n",
    "    \n",
    "plaintext=input(\"Enter Plain Text for Rail Fence Transposition Operation \")\n",
    "Depth=int(input(\"Enter Depth :- \"))\n",
    "cyphertext=convert(plaintext,Depth)\n",
    "print(\"Cypher text is :- \",cyphertext)"
   ]
  }
 ],
 "metadata": {
  "kernelspec": {
   "display_name": "Python 3 (ipykernel)",
   "language": "python",
   "name": "python3"
  },
  "language_info": {
   "codemirror_mode": {
    "name": "ipython",
    "version": 3
   },
   "file_extension": ".py",
   "mimetype": "text/x-python",
   "name": "python",
   "nbconvert_exporter": "python",
   "pygments_lexer": "ipython3",
   "version": "3.10.9"
  }
 },
 "nbformat": 4,
 "nbformat_minor": 5
}
