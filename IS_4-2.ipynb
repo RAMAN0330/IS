{
 "cells": [
  {
   "cell_type": "code",
   "execution_count": 4,
   "id": "f93fcb3c",
   "metadata": {},
   "outputs": [
    {
     "name": "stdout",
     "output_type": "stream",
     "text": [
      "Enter a Plain text :- hellothere\n",
      "Enter a Key :- key\n",
      "Appling Poly alphabtic cipher substituion---------> Possible Cipher text :- \n",
      "DUVHEDDUBA\n"
     ]
    }
   ],
   "source": [
    "# CSC/20/50 Bharat_Sharma Univ_Roll_No:20059570040\n",
    "from itertools import permutations\n",
    "def polyalphabatic(Plaintext,key):\n",
    "    result = [] \n",
    "    for i in range(len(Plaintext)): \n",
    "        x = (ord(Plaintext[i]) +ord(key[i % len(key)])) % 26\n",
    "        x += ord('A') \n",
    "        result.append(chr(x)) \n",
    "    print(\"\" . join(result)) \n",
    "    \n",
    "        \n",
    "Plaintext=input(\"Enter a Plain text :- \")        \n",
    "key=input(\"Enter a Key :- \")\n",
    "print(\"Appling Poly alphabtic cipher substituion---------> Possible Cipher text :- \")\n",
    "polyalphabatic(Plaintext,key)\n",
    "\n"
   ]
  },
  {
   "cell_type": "code",
   "execution_count": null,
   "id": "ba0bcbb5",
   "metadata": {},
   "outputs": [],
   "source": []
  }
 ],
 "metadata": {
  "kernelspec": {
   "display_name": "Python 3 (ipykernel)",
   "language": "python",
   "name": "python3"
  },
  "language_info": {
   "codemirror_mode": {
    "name": "ipython",
    "version": 3
   },
   "file_extension": ".py",
   "mimetype": "text/x-python",
   "name": "python",
   "nbconvert_exporter": "python",
   "pygments_lexer": "ipython3",
   "version": "3.9.13"
  }
 },
 "nbformat": 4,
 "nbformat_minor": 5
}
