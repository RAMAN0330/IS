{
 "cells": [
  {
   "cell_type": "code",
   "execution_count": 2,
   "id": "d04b3250",
   "metadata": {},
   "outputs": [
    {
     "name": "stdout",
     "output_type": "stream",
     "text": [
      "Original plaintext: the quick brown fox jumps over the lazy dog\n",
      "Encrypted ciphertext: uit fcoed zjhmk bhp vclnq hxtj uit gars yhw\n",
      "Cipher key: azeytbwiovdglkhnfjqucxmpsr\n",
      "Most frequent letters in ciphertext: ['h', 't', 'u', 'i', 'c', 'j', 'f', 'o', 'e', 'd', 'z', 'm', 'k', 'b', 'p', 'v', 'l', 'n', 'q', 'x', 'g', 'a', 'r', 's', 'y', 'w']\n",
      "Matching pairs: [('h', 'i'), ('e', 't'), ('t', 'u')]\n",
      "Matching key: het\n"
     ]
    }
   ],
   "source": [
    "# Bharat_Sharma CSC/20/50 Univ_Roll_No: 20059570040\n",
    "import random\n",
    "import string\n",
    "\n",
    "alphabet = list(string.ascii_lowercase)\n",
    "cipher_key = alphabet.copy()\n",
    "random.shuffle(cipher_key)\n",
    "cipher_key = ''.join(cipher_key)\n",
    "\n",
    "plaintext = \"the quick brown fox jumps over the lazy dog\"\n",
    "ciphertext = \"\"\n",
    "for letter in plaintext:\n",
    "    if letter.isalpha():\n",
    "        ciphertext += cipher_key[alphabet.index(letter.lower())]\n",
    "    else:\n",
    "        ciphertext += letter\n",
    "\n",
    "print(\"Original plaintext:\", plaintext)\n",
    "print(\"Encrypted ciphertext:\", ciphertext)\n",
    "print(\"Cipher key:\", cipher_key)\n",
    "\n",
    "frequencies = {}\n",
    "for letter in ciphertext:\n",
    "    if letter.isalpha():\n",
    "        if letter.lower() in frequencies:\n",
    "            frequencies[letter.lower()] += 1\n",
    "        else:\n",
    "            frequencies[letter.lower()] = 1\n",
    "\n",
    "sorted_frequencies = sorted(frequencies.items(), key=lambda x: x[1], reverse=True)\n",
    "most_frequent = [x[0] for x in sorted_frequencies]\n",
    "print(\"Most frequent letters in ciphertext:\", most_frequent)\n",
    "\n",
    "known_plaintext = \"the\"\n",
    "matching_pairs = []\n",
    "for i in range(len(known_plaintext)):\n",
    "    plaintext_letter = known_plaintext[i]\n",
    "    ciphertext_letter = ciphertext[i]\n",
    "    matching_pairs.append((plaintext_letter, ciphertext_letter))\n",
    "\n",
    "matching_pairs = sorted(matching_pairs, key=lambda x: x[1])\n",
    "matching_key = \"\"\n",
    "for pair in matching_pairs:\n",
    "    matching_key += alphabet[cipher_key.index(pair[1].lower())]\n",
    "\n",
    "print(\"Matching pairs:\", matching_pairs)\n",
    "print(\"Matching key:\", matching_key)"
   ]
  },
  {
   "cell_type": "code",
   "execution_count": null,
   "id": "96d45a4c",
   "metadata": {},
   "outputs": [],
   "source": []
  }
 ],
 "metadata": {
  "kernelspec": {
   "display_name": "Python 3 (ipykernel)",
   "language": "python",
   "name": "python3"
  },
  "language_info": {
   "codemirror_mode": {
    "name": "ipython",
    "version": 3
   },
   "file_extension": ".py",
   "mimetype": "text/x-python",
   "name": "python",
   "nbconvert_exporter": "python",
   "pygments_lexer": "ipython3",
   "version": "3.11.3"
  }
 },
 "nbformat": 4,
 "nbformat_minor": 5
}
