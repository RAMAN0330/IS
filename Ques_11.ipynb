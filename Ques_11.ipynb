{
 "cells": [
  {
   "cell_type": "code",
   "execution_count": 16,
   "id": "f3f7db43",
   "metadata": {},
   "outputs": [
    {
     "name": "stdout",
     "output_type": "stream",
     "text": [
      "Stream Cipher :- ('One Time Pading')  \n",
      "Enter Plain Text :- hello\n",
      "Enter key :- sirji\n",
      "Cipher Text generated is :-  aldff\n"
     ]
    }
   ],
   "source": [
    "# Bharat_Sharma CSC/20/50 Univ_Roll_No: 20059570040\n",
    "import numpy as np\n",
    "\n",
    "print(\"Stream Cipher :- ('One Time Pading')  \")\n",
    "pt=input(\"Enter Plain Text :- \")\n",
    "key=input(\"Enter key :- \")\n",
    "if(len(key)!=len(pt)):\n",
    "    print(\"Error : For Stream Cipher Key length must be Same as of Plain text. \")\n",
    "else:\n",
    "    c_text=\"\"\n",
    "    for i in range(len(key)):\n",
    "        a=pt[i]\n",
    "        b=key[i]\n",
    "        a=ord(a)-96\n",
    "        b=ord(b)-96\n",
    "        c=a^b\n",
    "        c_text+=chr((c%26)+96)\n",
    "    print(\"Cipher Text generated is :- \",c_text)\n",
    "        \n"
   ]
  },
  {
   "cell_type": "code",
   "execution_count": null,
   "id": "485dd0be",
   "metadata": {},
   "outputs": [],
   "source": []
  }
 ],
 "metadata": {
  "kernelspec": {
   "display_name": "Python 3 (ipykernel)",
   "language": "python",
   "name": "python3"
  },
  "language_info": {
   "codemirror_mode": {
    "name": "ipython",
    "version": 3
   },
   "file_extension": ".py",
   "mimetype": "text/x-python",
   "name": "python",
   "nbconvert_exporter": "python",
   "pygments_lexer": "ipython3",
   "version": "3.11.3"
  }
 },
 "nbformat": 4,
 "nbformat_minor": 5
}
