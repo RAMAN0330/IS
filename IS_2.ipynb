{
 "cells": [
  {
   "cell_type": "code",
   "execution_count": 1,
   "metadata": {},
   "outputs": [],
   "source": [
    "\n",
    "# CSC/20/50 Bharat Sharma Univ_Roll_No:- 20059570040\n",
    "\n",
    "def hamming_check(code):\n",
    "\n",
    "    # Calculate the number of parity bits.\n",
    "    n = len(code)\n",
    "    r = 0\n",
    "    while 2**r <= n:\n",
    "        r += 1\n",
    "    \n",
    "    # Generate the syndrome.\n",
    "    syndrome = 0\n",
    "    for i in range(r):\n",
    "        pos = 2**i - 1\n",
    "        bit = 0\n",
    "        for j in range(pos, n, 2*pos + 2):\n",
    "            for k in range(pos + 1):\n",
    "                if j + k >= n:\n",
    "                    break\n",
    "                if (k != pos):\n",
    "                    bit = bit ^ int(code[j + k])\n",
    "        syndrome += bit * (2**i)\n",
    "    \n",
    "    # If the syndrome is non-zero, an error has occurred.\n",
    "    if syndrome > 0:\n",
    "        return True\n",
    "    \n",
    "    return False"
   ]
  },
  {
   "cell_type": "code",
   "execution_count": 3,
   "metadata": {},
   "outputs": [
    {
     "name": "stdout",
     "output_type": "stream",
     "text": [
      "Enter code : 10011000\n",
      "No errors detected.\n"
     ]
    }
   ],
   "source": [
    "code = input(\"Enter code : \")\n",
    "\n",
    "if hamming_check(code):\n",
    "    print(\"Errors detected!\")\n",
    "else:\n",
    "    print(\"No errors detected.\")"
   ]
  },
  {
   "cell_type": "code",
   "execution_count": null,
   "metadata": {},
   "outputs": [],
   "source": []
  }
 ],
 "metadata": {
  "kernelspec": {
   "display_name": "Python 3 (ipykernel)",
   "language": "python",
   "name": "python3"
  },
  "language_info": {
   "codemirror_mode": {
    "name": "ipython",
    "version": 3
   },
   "file_extension": ".py",
   "mimetype": "text/x-python",
   "name": "python",
   "nbconvert_exporter": "python",
   "pygments_lexer": "ipython3",
   "version": "3.9.13"
  },
  "vscode": {
   "interpreter": {
    "hash": "0bf73c2a0012a15675a90c284755af99b9b94dfb7c5f04c54acd4d8559563f84"
   }
  }
 },
 "nbformat": 4,
 "nbformat_minor": 2
}
