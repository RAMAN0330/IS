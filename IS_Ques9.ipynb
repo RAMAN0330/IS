{
 "cells": [
  {
   "cell_type": "code",
   "execution_count": 4,
   "id": "d04b3250",
   "metadata": {},
   "outputs": [
    {
     "name": "stdout",
     "output_type": "stream",
     "text": [
      "Enter Plain Text for Product Transposition Operation bharatsharma\n",
      "Enter Key :- 251340\n",
      "Cypher text is :-  hbtraamrhsab\n"
     ]
    }
   ],
   "source": [
    "# CSC/20/50 Bharat Sharma UNIV_ROLL_NO:- 20059570040\n",
    "import re\n",
    "\n",
    "def convert(pt,d):\n",
    "    \n",
    "    text=\"\"\n",
    "    j=0\n",
    "    count=0\n",
    "    while(count<len(pt)):\n",
    "        for i in d:\n",
    "            text+=pt[(j*max(d))+i]\n",
    "            count+=1\n",
    "        j+=1\n",
    "    return text\n",
    "\n",
    "def create_matrix(pt,c):\n",
    "    pt=pt.replace(\" \",\"\")\n",
    "    pt=pt.lower()\n",
    "    pt=re.sub('[^a-zA-Z]+', '', pt)\n",
    "    res = [str(sub) for sub in pt]\n",
    "    return(convert(res,c))\n",
    "    \n",
    "    \n",
    "    \n",
    "plaintext=input(\"Enter Plain Text for Product Transposition Operation \")\n",
    "key=input(\"Enter Key :- \")\n",
    "keys = [int(i) for i in key]\n",
    "pt1=create_matrix(plaintext,keys)\n",
    "print(\"Cypher text is :- \",create_matrix(pt1,keys))\n"
   ]
  },
  {
   "cell_type": "code",
   "execution_count": null,
   "id": "98a1744c",
   "metadata": {},
   "outputs": [],
   "source": []
  }
 ],
 "metadata": {
  "kernelspec": {
   "display_name": "Python 3 (ipykernel)",
   "language": "python",
   "name": "python3"
  },
  "language_info": {
   "codemirror_mode": {
    "name": "ipython",
    "version": 3
   },
   "file_extension": ".py",
   "mimetype": "text/x-python",
   "name": "python",
   "nbconvert_exporter": "python",
   "pygments_lexer": "ipython3",
   "version": "3.11.3"
  }
 },
 "nbformat": 4,
 "nbformat_minor": 5
}
