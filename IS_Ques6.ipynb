{
 "cells": [
  {
   "cell_type": "code",
   "execution_count": 30,
   "id": "1621f6f7",
   "metadata": {},
   "outputs": [
    {
     "name": "stdout",
     "output_type": "stream",
     "text": [
      "Enter Key for Hill Cipher Substitution :- gybnqkurp\n",
      "Enter Plain Text :- act\n",
      "Cipher Text is :-  poh\n"
     ]
    }
   ],
   "source": [
    "# CSC/20/50 Bharat_Sharma Univ_Roll_No:- 20059570040\n",
    "from math import sqrt\n",
    "import numpy \n",
    "key_c=input(\"Enter Key for Hill Cipher Substitution :- \")\n",
    "def check_matrix(n):\n",
    "    sq_root = int(sqrt(n))\n",
    "    return (sq_root*sq_root) == n\n",
    "key_c=key_c.lower()\n",
    "\n",
    "nkey=\"\"\n",
    "for char in key_c:\n",
    "    if ord(char) >= 97 and ord(char) <= 122:\n",
    "        nkey += char\n",
    "if check_matrix(len(nkey)):\n",
    "    temp=[]\n",
    "    for char in nkey:\n",
    "        temp.append(ord(char)-97)\n",
    "    arr=numpy.array(temp)\n",
    "    arr=arr.reshape(int(sqrt(len(nkey))),int(sqrt(len(nkey))))\n",
    "    plaintext=input(\"Enter Plain Text :- \")\n",
    "    if len(plaintext)==sqrt(len(nkey)):\n",
    "        text=plaintext.lower()\n",
    "        t1=\"\"\n",
    "        for char in text:\n",
    "            if ord(char) >= 97 and ord(char) <= 122:\n",
    "                t1 += char\n",
    "        temp1=[]\n",
    "        for char in t1:\n",
    "            temp1.append(ord(char)-97)\n",
    "        result=arr.dot(temp1)\n",
    "        result=result%26\n",
    "        result=result+97\n",
    "        res = \"\"\n",
    "        for val in result:\n",
    "            res = res + chr(val)\n",
    "        print(\"Cipher Text is :- \",str(res))\n",
    "        \n",
    "    else:\n",
    "        print(\"Plain text of Wrong length \")\n",
    "        \n",
    "        \n",
    "    \n",
    "    \n",
    "else:\n",
    "    print(\"Key is not valid \")"
   ]
  },
  {
   "cell_type": "code",
   "execution_count": 4,
   "id": "dec3ef8b",
   "metadata": {},
   "outputs": [],
   "source": []
  }
 ],
 "metadata": {
  "kernelspec": {
   "display_name": "Python 3 (ipykernel)",
   "language": "python",
   "name": "python3"
  },
  "language_info": {
   "codemirror_mode": {
    "name": "ipython",
    "version": 3
   },
   "file_extension": ".py",
   "mimetype": "text/x-python",
   "name": "python",
   "nbconvert_exporter": "python",
   "pygments_lexer": "ipython3",
   "version": "3.10.9"
  }
 },
 "nbformat": 4,
 "nbformat_minor": 5
}
