{
 "cells": [
  {
   "cell_type": "code",
   "execution_count": null,
   "id": "b9fd148f",
   "metadata": {},
   "outputs": [],
   "source": [
    "# CSC/20/50 Bharat_Sharma Univ_Roll_No:20059570040\n",
    "from itertools import permutations\n",
    "def Monoalphabatic(Plaintext):\n",
    "    permutation_List=permutations(Plaintext)\n",
    "    for temp in list(permutation_List):\n",
    "        print(''.join(temp))\n",
    "        \n",
    "Plaintext=input(\"Enter a Plain text :- \")\n",
    "print(\"Appling Mono alphabtic cipher substituion---------> Possible Cipher text :- \")\n",
    "Monoalphabatic(Plaintext)\n",
    "\n"
   ]
  }
 ],
 "metadata": {
  "kernelspec": {
   "display_name": "Python 3 (ipykernel)",
   "language": "python",
   "name": "python3"
  },
  "language_info": {
   "codemirror_mode": {
    "name": "ipython",
    "version": 3
   },
   "file_extension": ".py",
   "mimetype": "text/x-python",
   "name": "python",
   "nbconvert_exporter": "python",
   "pygments_lexer": "ipython3",
   "version": "3.9.13"
  }
 },
 "nbformat": 4,
 "nbformat_minor": 5
}
